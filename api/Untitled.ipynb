{
 "cells": [
  {
   "cell_type": "code",
   "execution_count": 17,
   "id": "e4bc7d3e-9287-49e5-9bb8-59ce152740fa",
   "metadata": {},
   "outputs": [],
   "source": [
    "saria = {\n",
    "\t\"id\": \"d184e6e0-c2ef-40b9-8912-0ffca11fb41a\", \n",
    "\t\"created_at\": \"2023-05-18T18:34:23.859225\", \n",
    "\t\"updated_at\": \"2023-05-18T18:34:23.859255\",\n",
    "\t \"__class__\": \"User\"\n",
    "}"
   ]
  },
  {
   "cell_type": "code",
   "execution_count": 18,
   "id": "3b3652df-deb1-4d05-ad4b-a38a0d778ef3",
   "metadata": {},
   "outputs": [
    {
     "name": "stdout",
     "output_type": "stream",
     "text": [
      "{'id': 'd184e6e0-c2ef-40b9-8912-0ffca11fb41a', 'created_at': '2023-05-18T18:34:23.859225', 'updated_at': '2023-05-18T18:34:23.859255', '__class__': 'User'}\n"
     ]
    }
   ],
   "source": [
    "print(saria)"
   ]
  },
  {
   "cell_type": "markdown",
   "id": "04e1e816-1b95-450a-9765-e39ccd102f6a",
   "metadata": {},
   "source": [
    "body_put =\n",
    "{\n",
    "\t\"id\": \"ty7890-985-c2ef-40b9-8912-0ffca11fb41a\", \n",
    "\t\"created_at\": \"Tuesday\", \n",
    "\t\"updated_at\": \"Friday\",\n",
    "\t \"__class__\": \"User\"\n",
    "}"
   ]
  },
  {
   "cell_type": "code",
   "execution_count": 19,
   "id": "9b7f57bb-e41d-4201-ab9b-68588933152f",
   "metadata": {},
   "outputs": [],
   "source": [
    "body_put = {\n",
    "\t\"id\": \"ty7890-985-c2ef-40b9-8912-0ffca11fb41a\", \n",
    "\t\"created_at\": \"Tuesday\", \n",
    "\t\"updated_at\": \"Friday\",\n",
    "\t \"__class__\": \"User\"\n",
    "}"
   ]
  },
  {
   "cell_type": "code",
   "execution_count": 20,
   "id": "02ff2824-219d-43c2-9aa4-a650bef17306",
   "metadata": {},
   "outputs": [
    {
     "name": "stdout",
     "output_type": "stream",
     "text": [
      "{'id': 'ty7890-985-c2ef-40b9-8912-0ffca11fb41a', 'created_at': 'Tuesday', 'updated_at': 'Friday', '__class__': 'User'}\n"
     ]
    }
   ],
   "source": [
    "print(body_put)"
   ]
  },
  {
   "cell_type": "code",
   "execution_count": 21,
   "id": "85aeaf7d-038a-4b3d-830f-e2bef08972cd",
   "metadata": {},
   "outputs": [
    {
     "name": "stdout",
     "output_type": "stream",
     "text": [
      "{'id': 'd184e6e0-c2ef-40b9-8912-0ffca11fb41a', 'created_at': '2023-05-18T18:34:23.859225', 'updated_at': '2023-05-18T18:34:23.859255', '__class__': 'User'}\n",
      "\n",
      "\n",
      "\n"
     ]
    }
   ],
   "source": [
    "print(saria)\n",
    "print(\"\\n\\n\")\n",
    "for i, v in body_put.items():\n",
    "    saria[i] = v\n",
    "    "
   ]
  },
  {
   "cell_type": "code",
   "execution_count": 8,
   "id": "8ba89a23-190f-4b57-8f4a-a78143365e0d",
   "metadata": {},
   "outputs": [
    {
     "name": "stdout",
     "output_type": "stream",
     "text": [
      "{'id': 'ty7890-985-c2ef-40b9-8912-0ffca11fb41a', 'created_at': 'Tuesday', 'updated_at': 'Friday', '__class__': 'User', 'i': 'd'}\n"
     ]
    }
   ],
   "source": [
    "print(saria)"
   ]
  },
  {
   "cell_type": "code",
   "execution_count": 22,
   "id": "cb32cae2-c4b2-4893-8b1e-96637c43d2b7",
   "metadata": {},
   "outputs": [],
   "source": [
    "obj =\t{\n",
    "  \t\t\t\"__class__\": \"State\",\n",
    "  \t\t\t\"created_at\": \"2017-03-25T19:42:40.000000\",\n",
    "  \t\t\t\"id\": \"421a55f4-7d82-47d9-b54c-a76916479545\",\n",
    "  \t\t\t\"name\": \"Alabama\",\n",
    "  \t\t\t\"updated_at\": \"2017-03-25T19:42:40.000000\"\n",
    "\t\t}"
   ]
  },
  {
   "cell_type": "code",
   "execution_count": 23,
   "id": "872b1f49-59d8-4f8a-805f-ec095c716563",
   "metadata": {},
   "outputs": [
    {
     "data": {
      "text/plain": [
       "'dict'"
      ]
     },
     "execution_count": 23,
     "metadata": {},
     "output_type": "execute_result"
    }
   ],
   "source": [
    "obj.__class__.__name__"
   ]
  },
  {
   "cell_type": "code",
   "execution_count": 24,
   "id": "a7573d4d-3d62-476d-a78b-f309d94fdb31",
   "metadata": {},
   "outputs": [
    {
     "ename": "AttributeError",
     "evalue": "'dict' object has no attribute 'id'",
     "output_type": "error",
     "traceback": [
      "\u001b[0;31m---------------------------------------------------------------------------\u001b[0m",
      "\u001b[0;31mAttributeError\u001b[0m                            Traceback (most recent call last)",
      "Cell \u001b[0;32mIn[24], line 1\u001b[0m\n\u001b[0;32m----> 1\u001b[0m \u001b[43mobj\u001b[49m\u001b[38;5;241;43m.\u001b[39;49m\u001b[43mid\u001b[49m\n",
      "\u001b[0;31mAttributeError\u001b[0m: 'dict' object has no attribute 'id'"
     ]
    }
   ],
   "source": [
    "obj.id"
   ]
  },
  {
   "cell_type": "code",
   "execution_count": null,
   "id": "0f3c787f-cf8a-4dad-9296-687da6622e40",
   "metadata": {},
   "outputs": [],
   "source": [
    "class students:\n",
    "    "
   ]
  }
 ],
 "metadata": {
  "kernelspec": {
   "display_name": "Python 3 (ipykernel)",
   "language": "python",
   "name": "python3"
  },
  "language_info": {
   "codemirror_mode": {
    "name": "ipython",
    "version": 3
   },
   "file_extension": ".py",
   "mimetype": "text/x-python",
   "name": "python",
   "nbconvert_exporter": "python",
   "pygments_lexer": "ipython3",
   "version": "3.11.4"
  }
 },
 "nbformat": 4,
 "nbformat_minor": 5
}
